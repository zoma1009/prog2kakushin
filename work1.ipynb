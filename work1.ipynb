{
  "nbformat": 4,
  "nbformat_minor": 0,
  "metadata": {
    "colab": {
      "provenance": [],
      "authorship_tag": "ABX9TyMTwwWd2dbG7R0Sj8aWVbna",
      "include_colab_link": true
    },
    "kernelspec": {
      "name": "python3",
      "display_name": "Python 3"
    },
    "language_info": {
      "name": "python"
    }
  },
  "cells": [
    {
      "cell_type": "markdown",
      "metadata": {
        "id": "view-in-github",
        "colab_type": "text"
      },
      "source": [
        "<a href=\"https://colab.research.google.com/github/zoma1009/prog2kakushin/blob/main/work1.ipynb\" target=\"_parent\"><img src=\"https://colab.research.google.com/assets/colab-badge.svg\" alt=\"Open In Colab\"/></a>"
      ]
    },
    {
      "cell_type": "markdown",
      "source": [
        "処理に必要なファイル(日本郵政より，一部編集)のダウンロード"
      ],
      "metadata": {
        "id": "XQad0l4ytwUi"
      }
    },
    {
      "cell_type": "code",
      "execution_count": 100,
      "metadata": {
        "id": "X3_9Z3t6oq_M",
        "outputId": "8ee60a2e-54a8-440b-8754-d4e9b0f286ed",
        "colab": {
          "base_uri": "https://localhost:8080/"
        }
      },
      "outputs": [
        {
          "output_type": "stream",
          "name": "stdout",
          "text": [
            "--2022-12-22 07:57:08--  https://drive.google.com/uc?export=download&id=1KLfxsC8fP7evTmBSQ2wEzerg0qA7cg4Y\n",
            "Resolving drive.google.com (drive.google.com)... 142.251.163.101, 142.251.163.138, 142.251.163.139, ...\n",
            "Connecting to drive.google.com (drive.google.com)|142.251.163.101|:443... connected.\n",
            "HTTP request sent, awaiting response... 303 See Other\n",
            "Location: https://doc-04-9s-docs.googleusercontent.com/docs/securesc/ha0ro937gcuc7l7deffksulhg5h7mbp1/96bcpmqkfuq0j5shulr3fjpooudnm1g6/1671695775000/06754808765110375998/*/1KLfxsC8fP7evTmBSQ2wEzerg0qA7cg4Y?e=download&uuid=3e930ac8-9d74-4931-a314-1fbdc569e824 [following]\n",
            "Warning: wildcards not supported in HTTP.\n",
            "--2022-12-22 07:57:10--  https://doc-04-9s-docs.googleusercontent.com/docs/securesc/ha0ro937gcuc7l7deffksulhg5h7mbp1/96bcpmqkfuq0j5shulr3fjpooudnm1g6/1671695775000/06754808765110375998/*/1KLfxsC8fP7evTmBSQ2wEzerg0qA7cg4Y?e=download&uuid=3e930ac8-9d74-4931-a314-1fbdc569e824\n",
            "Resolving doc-04-9s-docs.googleusercontent.com (doc-04-9s-docs.googleusercontent.com)... 172.253.63.132, 2607:f8b0:4004:c08::84\n",
            "Connecting to doc-04-9s-docs.googleusercontent.com (doc-04-9s-docs.googleusercontent.com)|172.253.63.132|:443... connected.\n",
            "HTTP request sent, awaiting response... 200 OK\n",
            "Length: 11011565 (11M) [text/csv]\n",
            "Saving to: ‘pref_mail.csv’\n",
            "\n",
            "pref_mail.csv       100%[===================>]  10.50M  --.-KB/s    in 0.06s   \n",
            "\n",
            "2022-12-22 07:57:10 (184 MB/s) - ‘pref_mail.csv’ saved [11011565/11011565]\n",
            "\n"
          ]
        }
      ],
      "source": [
        "!wget \"https://drive.google.com/uc?export=download&id=1KLfxsC8fP7evTmBSQ2wEzerg0qA7cg4Y\" -O pref_mail.csv"
      ]
    },
    {
      "cell_type": "markdown",
      "source": [
        "郵便番号をハイフン(-)抜きの7桁で入力すると，その郵便番号が示す都道府県名，市区町村名，字名を表示する"
      ],
      "metadata": {
        "id": "-8BtEKctziig"
      }
    },
    {
      "cell_type": "code",
      "source": [
        "import pandas as pd\n",
        "\n",
        "ex=0\n",
        "df=pd.read_csv(\"pref_mail.csv\",encoding='utf-8')\n",
        "df2=df.set_index('num')\n",
        "while ex==0:\n",
        "  x=input('ここに郵便番号を7桁で入力：')\n",
        "  while len(x)!=7:\n",
        "    print('ハイフン(-)を入れずに7桁で入力して下さい')\n",
        "    x=input('ここに郵便番号を7桁で入力：')\n",
        "  y=x[:3]+'-'+x[3:]\n",
        "  if (y in df.values)==True:\n",
        "    ex=1\n",
        "  else:print('実在する郵便番号を入力してください')\n",
        "print('都道府県：'+df2.loc[y,'都道府県'])\n",
        "print('市区町村：'+df2.loc[y,'市区町村'])\n",
        "print(' 詳　細 ：'+df2.loc[y,'詳細'])\n"
      ],
      "metadata": {
        "id": "b385viz-YgTq",
        "outputId": "84af4bd3-2d74-495e-aec3-ec9b99fdbdfc",
        "colab": {
          "base_uri": "https://localhost:8080/"
        }
      },
      "execution_count": 110,
      "outputs": [
        {
          "output_type": "stream",
          "name": "stdout",
          "text": [
            "ここに郵便番号を7桁で入力：100\n",
            "ハイフン(-)を入れずに7桁で入力して下さい\n",
            "ここに郵便番号を7桁で入力：1234567\n",
            "実在する郵便番号を入力してください\n",
            "ここに郵便番号を7桁で入力：1010047\n",
            "都道府県：東京都\n",
            "市区町村：千代田区\n",
            " 詳　細 ：内神田\n"
          ]
        }
      ]
    },
    {
      "cell_type": "markdown",
      "source": [
        "pandasを用いて，郵便番号から住所を検索できるシステムの作成"
      ],
      "metadata": {
        "id": "1j7jf-tsovN7"
      }
    }
  ]
}