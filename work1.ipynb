{
  "nbformat": 4,
  "nbformat_minor": 0,
  "metadata": {
    "colab": {
      "provenance": [],
      "authorship_tag": "ABX9TyODpdbxkDHUxXEbh8BAMzla",
      "include_colab_link": true
    },
    "kernelspec": {
      "name": "python3",
      "display_name": "Python 3"
    },
    "language_info": {
      "name": "python"
    }
  },
  "cells": [
    {
      "cell_type": "markdown",
      "metadata": {
        "id": "view-in-github",
        "colab_type": "text"
      },
      "source": [
        "<a href=\"https://colab.research.google.com/github/zoma1009/prog2kakushin/blob/main/work1.ipynb\" target=\"_parent\"><img src=\"https://colab.research.google.com/assets/colab-badge.svg\" alt=\"Open In Colab\"/></a>"
      ]
    },
    {
      "cell_type": "code",
      "execution_count": 5,
      "metadata": {
        "id": "X3_9Z3t6oq_M",
        "outputId": "a7149d59-e713-4dbe-ede7-9f34741d54aa",
        "colab": {
          "base_uri": "https://localhost:8080/"
        }
      },
      "outputs": [
        {
          "output_type": "stream",
          "name": "stdout",
          "text": [
            "--2022-12-22 05:46:17--  https://drive.google.com/uc?export=download&id=1KLfxsC8fP7evTmBSQ2wEzerg0qA7cg4Y\n",
            "Resolving drive.google.com (drive.google.com)... 142.251.163.100, 142.251.163.102, 142.251.163.139, ...\n",
            "Connecting to drive.google.com (drive.google.com)|142.251.163.100|:443... connected.\n",
            "HTTP request sent, awaiting response... 303 See Other\n",
            "Location: https://doc-04-9s-docs.googleusercontent.com/docs/securesc/ha0ro937gcuc7l7deffksulhg5h7mbp1/re0dehi84vbee5d16gaqd95h0o9f46aq/1671687975000/06754808765110375998/*/1KLfxsC8fP7evTmBSQ2wEzerg0qA7cg4Y?e=download&uuid=274053a0-85c7-41de-a02e-99a39ac74825 [following]\n",
            "Warning: wildcards not supported in HTTP.\n",
            "--2022-12-22 05:46:18--  https://doc-04-9s-docs.googleusercontent.com/docs/securesc/ha0ro937gcuc7l7deffksulhg5h7mbp1/re0dehi84vbee5d16gaqd95h0o9f46aq/1671687975000/06754808765110375998/*/1KLfxsC8fP7evTmBSQ2wEzerg0qA7cg4Y?e=download&uuid=274053a0-85c7-41de-a02e-99a39ac74825\n",
            "Resolving doc-04-9s-docs.googleusercontent.com (doc-04-9s-docs.googleusercontent.com)... 172.253.63.132, 2607:f8b0:4004:c08::84\n",
            "Connecting to doc-04-9s-docs.googleusercontent.com (doc-04-9s-docs.googleusercontent.com)|172.253.63.132|:443... connected.\n",
            "HTTP request sent, awaiting response... 200 OK\n",
            "Length: 9537257 (9.1M) [text/csv]\n",
            "Saving to: ‘pref_mail.csv’\n",
            "\n",
            "pref_mail.csv       100%[===================>]   9.09M  --.-KB/s    in 0.08s   \n",
            "\n",
            "2022-12-22 05:46:18 (119 MB/s) - ‘pref_mail.csv’ saved [9537257/9537257]\n",
            "\n"
          ]
        }
      ],
      "source": [
        "!wget \"https://drive.google.com/uc?export=download&id=1KLfxsC8fP7evTmBSQ2wEzerg0qA7cg4Y\" -O pref_mail.csv"
      ]
    },
    {
      "cell_type": "code",
      "source": [],
      "metadata": {
        "id": "wKvjgvuVT-M7"
      },
      "execution_count": null,
      "outputs": []
    },
    {
      "cell_type": "markdown",
      "source": [
        "pandasを用いて，郵便番号から住所を検索できるシステムの作成"
      ],
      "metadata": {
        "id": "1j7jf-tsovN7"
      }
    }
  ]
}