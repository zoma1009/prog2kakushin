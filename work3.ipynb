{
  "nbformat": 4,
  "nbformat_minor": 0,
  "metadata": {
    "colab": {
      "provenance": [],
      "authorship_tag": "ABX9TyNbTmLN/M1Gsohsru0oICEH",
      "include_colab_link": true
    },
    "kernelspec": {
      "name": "python3",
      "display_name": "Python 3"
    },
    "language_info": {
      "name": "python"
    }
  },
  "cells": [
    {
      "cell_type": "markdown",
      "metadata": {
        "id": "view-in-github",
        "colab_type": "text"
      },
      "source": [
        "<a href=\"https://colab.research.google.com/github/zoma1009/prog2kakushin/blob/main/work3.ipynb\" target=\"_parent\"><img src=\"https://colab.research.google.com/assets/colab-badge.svg\" alt=\"Open In Colab\"/></a>"
      ]
    },
    {
      "cell_type": "code",
      "execution_count": null,
      "metadata": {
        "id": "sXZIcsSsuDrj"
      },
      "outputs": [],
      "source": []
    },
    {
      "cell_type": "markdown",
      "source": [
        "turtleとopencvを用いて，乱数を用いたアートの作成\n",
        "opencvに元となるキャンバスの作成\n",
        "turtle君に乱数でめちゃくちゃな移動をさせたり，めちゃくちゃな色を与え，象徴的かつ，著作権の存在しないアートの作成\n",
        "つまり実質AIアート"
      ],
      "metadata": {
        "id": "odCyExcDuHYQ"
      }
    }
  ]
}