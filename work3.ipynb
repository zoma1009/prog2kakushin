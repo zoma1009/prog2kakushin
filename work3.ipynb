{
  "nbformat": 4,
  "nbformat_minor": 0,
  "metadata": {
    "colab": {
      "provenance": [],
      "authorship_tag": "ABX9TyPA9phme1X0nvosycJ41LGY",
      "include_colab_link": true
    },
    "kernelspec": {
      "name": "python3",
      "display_name": "Python 3"
    },
    "language_info": {
      "name": "python"
    }
  },
  "cells": [
    {
      "cell_type": "markdown",
      "metadata": {
        "id": "view-in-github",
        "colab_type": "text"
      },
      "source": [
        "<a href=\"https://colab.research.google.com/github/zoma1009/prog2kakushin/blob/main/work3.ipynb\" target=\"_parent\"><img src=\"https://colab.research.google.com/assets/colab-badge.svg\" alt=\"Open In Colab\"/></a>"
      ]
    },
    {
      "cell_type": "code",
      "execution_count": 31,
      "metadata": {
        "id": "sXZIcsSsuDrj",
        "outputId": "0d2b0240-8345-43d0-c211-d09fd82ffa3d",
        "colab": {
          "base_uri": "https://localhost:8080/"
        }
      },
      "outputs": [
        {
          "output_type": "stream",
          "name": "stdout",
          "text": [
            "縦幅：100\n",
            "横幅：100\n",
            "描画したい四角形の数：10\n",
            "[26, 56, 75, 72, 169, 185, 179]\n",
            "[10, 79, 67, 91, 205, 166, 185]\n",
            "[54, 2, 78, 44, 79, 86, 42]\n",
            "[54, 57, 66, 71, 34, 223, 160]\n",
            "[10, 78, 42, 93, 70, 134, 210]\n",
            "[84, 75, 94, 89, 39, 185, 233]\n",
            "[53, 61, 67, 93, 238, 92, 95]\n",
            "[43, 56, 75, 79, 250, 134, 92]\n",
            "[29, 14, 60, 73, 35, 217, 171]\n",
            "[41, 40, 77, 93, 197, 245, 208]\n"
          ]
        },
        {
          "output_type": "execute_result",
          "data": {
            "text/plain": [
              "True"
            ]
          },
          "metadata": {},
          "execution_count": 31
        }
      ],
      "source": [
        "import numpy as np\n",
        "import cv2\n",
        "h=int(input('縦幅：'))\n",
        "w=int(input('横幅：'))\n",
        "r=int(input('描画したい四角形の数：'))\n",
        "blanc=np.zeros((h,w,3))\n",
        "blanc=blanc+255\n",
        "for i in range(r):\n",
        "  nu=np.zeros(7)\n",
        "  nu[0]=np.random.randint(1,(h-11))\n",
        "  nu[1]=np.random.randint(1,(w-11))\n",
        "  nu[2]=np.random.randint(nu[0]+10,h)\n",
        "  nu[3]=np.random.randint(nu[1]+10,w)\n",
        "  for j in range(4,7):\n",
        "    nu[j]=np.random.randint(0,256)\n",
        "  nu=list(nu)\n",
        "  for k in range(7):\n",
        "    nu[k]=int(nu[k])\n",
        "  cv2.rectangle(blanc,(nu[0],nu[1]),(nu[2],nu[3]),(nu[4],nu[5],nu[6]),thickness=-1)\n",
        "cv2.imwrite('arts.png',blanc)\n"
      ]
    },
    {
      "cell_type": "markdown",
      "source": [
        "\n",
        "起動すると縦幅，横幅，生成したい四角形の数を問われるので，必ず自然数で入力．すると'arts.png'がcolab上に生成されるため，確認し，気に入ったらダウンロード，気に入らなかったら再起動して再度作りなすことができる．なお，このプログラムで作成された画像について，プログラム作成者は一切の著作権を主張しない．"
      ],
      "metadata": {
        "id": "odCyExcDuHYQ"
      }
    },
    {
      "cell_type": "markdown",
      "source": [],
      "metadata": {
        "id": "2wWCs3MZuceN"
      }
    }
  ]
}